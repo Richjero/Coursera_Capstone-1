{
    "cells": [
        {
            "cell_type": "markdown",
            "metadata": {
                "collapsed": true
            },
            "source": "# BATTLE OF THE NEIGHBORHOODS\n### Where to Live in America? Low Cost, Diverse Food, and Less Serial Killers"
        },
        {
            "cell_type": "markdown",
            "metadata": {},
            "source": "## 1. INTRODUCTION"
        },
        {
            "cell_type": "markdown",
            "metadata": {},
            "source": "The United States covers 3.797 million square miles across North America.  As of 2020, there is an estimated 331.3 million people living within its 50 states.  Each of the 50 states has its own unique characteristics.  Some states, like New York, are home to booming metropolitan areas.  Some hold beautiful vast national parks, like Arizona.  Others still have the quiet rustic farmlands, like Oklahoma.  Some states, such as California, contain a bit of everything.\n\nDeciding where to move can be difficult.  There are various factors to consider; jobs, housing, schools, etc.  For this capstone project, I will dive into three:\n\n* Cost of living\n* Variety of food choices available\n* The likelihood of coming face to face with a serial killer\n\nYes, those are three very different factors for one to consider.  However, together, I believe they can make a more compelling case for states that do not receive as much attention.  \n\nMy target audience is people looking for an inexpensive state to live, with a lot of food options, and do not want to face off with a serial killer!"
        },
        {
            "cell_type": "markdown",
            "metadata": {},
            "source": "## 2. DATA ACQUISITION"
        },
        {
            "cell_type": "markdown",
            "metadata": {},
            "source": "For my analysis, I will be using two data sources:\n\n* worldpopulationreview.com \n* Foursquare\n\n__2.1 Foursquare__\n\nUtilizing the Foursquare API, I will obtain a sample of 50 different types of restaurants available per state.  I will then analyze and compare each state to determine the level of diversity.  For example, if one state has 20 types of restaurants in the sample of 50, they are more diverse than a state that only has 5 types of restaurants in the sample of 50.\n\n__2.2 worldpopulationreview.com (Cost of Living by State)__\n\nhttps://worldpopulationreview.com/states/cost-of-living-index-by-state/\n\nI will utilize the general cost of living index in order to compare the 50 states.  The average general cost of living index in the United States is 100.  Each state falls on a range between 86 and 193.  Virginia, for example, is a 100.7, which is right about average.\n\nThis data also contains other more specific cost of living measurements, such as utilities and transportation.  However, we will not be analyzing those variables in this project.\n\n__2.3 worldpopulationreview.com (Serial Killers by State)__\n\nhttps://worldpopulationreview.com/states/serial-killers-by-state/\n\nThis data contains the number of (known) serial killer victims in each state.  It also contains the total population of each state (as of 2020).  Based on the information provided, I will calculate the probability of encountering a serial killer in every state.  For example, Virginia has 238 confirmed serial killer victims and a population of 8,626,207.  Therefore, if you live in that state, you have a 0.0028% chance of a serial killer encounter."
        },
        {
            "cell_type": "code",
            "execution_count": null,
            "metadata": {},
            "outputs": [],
            "source": "## 3. Data Analysis"
        },
        {
            "cell_type": "code",
            "execution_count": null,
            "metadata": {},
            "outputs": [],
            "source": "## 4. Conclusion"
        },
        {
            "cell_type": "code",
            "execution_count": null,
            "metadata": {},
            "outputs": [],
            "source": ""
        }
    ],
    "metadata": {
        "kernelspec": {
            "display_name": "Python 3.6",
            "language": "python",
            "name": "python3"
        },
        "language_info": {
            "codemirror_mode": {
                "name": "ipython",
                "version": 3
            },
            "file_extension": ".py",
            "mimetype": "text/x-python",
            "name": "python",
            "nbconvert_exporter": "python",
            "pygments_lexer": "ipython3",
            "version": "3.6.9"
        }
    },
    "nbformat": 4,
    "nbformat_minor": 1
}