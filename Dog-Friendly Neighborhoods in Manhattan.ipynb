{
    "cells": [
        {
            "metadata": {
                "collapsed": true
            },
            "cell_type": "markdown",
            "source": "# Introduction"
        },
        {
            "metadata": {},
            "cell_type": "markdown",
            "source": "There are many neighborhoods in Manhattan, each with their own unique characteristics.  I will utilize the Foursquare location data to find the most dog-friendly neighborhoods.\n\nMy target audience is dog owners looking for the best neighborhood to move to for themselves and their loyal companion."
        },
        {
            "metadata": {},
            "cell_type": "markdown",
            "source": "# Data Usage"
        },
        {
            "metadata": {},
            "cell_type": "markdown",
            "source": "__Foursquare__ - Contains data of venues / points of interest around the world.\n* Usage: Locate neighborhoods with dog runs and veterinarians.\n* Example of usage: If the Lower East Side has both dog runs and veterinarians, it is a dog-friendly neighborhood.\n\n__health.ny.gov__ - Contains a list of Manhattan neighborhoods and zip codes.\n* Usage: Determine the neighborhood based on the zip code.\n* Example of usage: The Zip Code \"10002\" corresponds with the Lower East Side."
        },
        {
            "metadata": {},
            "cell_type": "code",
            "source": "",
            "execution_count": null,
            "outputs": []
        },
        {
            "metadata": {},
            "cell_type": "code",
            "source": "",
            "execution_count": null,
            "outputs": []
        },
        {
            "metadata": {},
            "cell_type": "code",
            "source": "",
            "execution_count": null,
            "outputs": []
        },
        {
            "metadata": {},
            "cell_type": "code",
            "source": "",
            "execution_count": null,
            "outputs": []
        },
        {
            "metadata": {},
            "cell_type": "code",
            "source": "",
            "execution_count": null,
            "outputs": []
        },
        {
            "metadata": {},
            "cell_type": "code",
            "source": "",
            "execution_count": null,
            "outputs": []
        }
    ],
    "metadata": {
        "kernelspec": {
            "name": "python3",
            "display_name": "Python 3.6",
            "language": "python"
        },
        "language_info": {
            "name": "python",
            "version": "3.6.9",
            "mimetype": "text/x-python",
            "codemirror_mode": {
                "name": "ipython",
                "version": 3
            },
            "pygments_lexer": "ipython3",
            "nbconvert_exporter": "python",
            "file_extension": ".py"
        }
    },
    "nbformat": 4,
    "nbformat_minor": 1
}